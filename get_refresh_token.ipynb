{
 "cells": [
  {
   "cell_type": "markdown",
   "metadata": {},
   "source": [
    "# DONT RUN THIS"
   ]
  },
  {
   "cell_type": "code",
   "execution_count": 3,
   "metadata": {},
   "outputs": [],
   "source": [
    "import gspread"
   ]
  },
  {
   "cell_type": "code",
   "execution_count": null,
   "metadata": {},
   "outputs": [],
   "source": [
    "from pathlib import Path\n",
    "from dotenv import set_key, load_dotenv\n",
    "import json\n",
    "\n",
    "env_path = Path(\".env\")\n",
    "load_dotenv(env_path)\n",
    "\n",
    "# Read JSON file\n",
    "with open(\"sheets_service_account.json\", \"r\") as f:\n",
    "    service_dict = json.load(f)\n",
    "\n",
    "# Convert to string, escaping newlines\n",
    "service_string = json.dumps(service_dict)\n",
    "\n",
    "# Save to .env\n",
    "set_key(\".env\", \"GOOGLE_SHEETS_SERVICE_ACCOUNT\", service_string)"
   ]
  },
  {
   "cell_type": "code",
   "execution_count": null,
   "metadata": {},
   "outputs": [],
   "source": [
    "import os, json\n",
    "from dotenv import load_dotenv\n",
    "\n",
    "load_dotenv()\n",
    "\n",
    "service_string = os.environ[\"GOOGLE_SHEETS_SERVICE_ACCOUNT\"]\n",
    "service_dict = json.loads(service_string)\n",
    "service_dict[\"private_key\"] = service_dict[\"private_key\"].replace(\"\\\\n\", \"\\n\")\n",
    "\n",
    "gc = gspread.service_account_from_dict(service_dict)\n"
   ]
  },
  {
   "cell_type": "code",
   "execution_count": null,
   "metadata": {},
   "outputs": [],
   "source": [
    "# Step 1, go to this website:\n",
    "# https://www.strava.com/oauth/authorize?client_id=<client_id>&response_type=code&redirect_uri=http://localhost/exchange_token&approval_prompt=force&scope=read,activity:read_all\n",
    "\n",
    "\n",
    "# Step 2, copy the code from the URL you are redirected to\n",
    "# CODE = ''\n",
    "\n",
    "\n",
    "# step 3, run below to generate refresh token. Only done once!\n",
    "# from dotenv import load_dotenv\n",
    "# import os\n",
    "\n",
    "# get secrets from .env\n",
    "# load_dotenv(\".env\")\n",
    "# STRAVA_CLIENT_ID = os.getenv(\"STRAVA_CLIENT_ID\")\n",
    "# STRAVA_CLIENT_SECRET = os.getenv(\"STRAVA_CLIENT_SECRET\")\n",
    "\n",
    "\n",
    "# --- Step 2: Exchange code for access + refresh tokens ---\n",
    "# token_url = \"https://www.strava.com/oauth/token\"\n",
    "# token_resp = requests.post(\n",
    "#    token_url,\n",
    "#    data={\n",
    "#        \"client_id\": STRAVA_CLIENT_ID,\n",
    "#        \"client_secret\": STRAVA_CLIENT_SECRET,\n",
    "#        \"code\": CODE,\n",
    "#        \"grant_type\": \"authorization_code\"\n",
    "#    }\n",
    "# )\n",
    "# token_data = token_resp.json()\n",
    "# print(\"Initial token exchange response:\", token_data)\n",
    "\n",
    "# Extract refresh token (save this, you’ll reuse it in the future)\n",
    "# REFRESH_TOKEN = token_data[\"refresh_token\"]\n",
    "# print(REFRESH_TOKEN)"
   ]
  },
  {
   "cell_type": "markdown",
   "metadata": {},
   "source": []
  }
 ],
 "metadata": {
  "kernelspec": {
   "display_name": "base",
   "language": "python",
   "name": "python3"
  },
  "language_info": {
   "codemirror_mode": {
    "name": "ipython",
    "version": 3
   },
   "file_extension": ".py",
   "mimetype": "text/x-python",
   "name": "python",
   "nbconvert_exporter": "python",
   "pygments_lexer": "ipython3",
   "version": "3.12.4"
  }
 },
 "nbformat": 4,
 "nbformat_minor": 2
}
